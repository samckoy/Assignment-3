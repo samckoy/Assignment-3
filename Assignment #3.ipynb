{
 "cells": [
  {
   "cell_type": "markdown",
   "id": "83507ffb",
   "metadata": {},
   "source": [
    "[![Open In Colab](https://colab.research.google.com/assets/colab-badge.svg)](https://colab.research.google.com/github/samckoy/Assignment-3/blob/main/Assignment%20%233.ipynb)"
   ]
  },
  {
   "cell_type": "code",
   "execution_count": 1,
   "id": "7180baad",
   "metadata": {},
   "outputs": [],
   "source": [
    "import pandas as pd\n",
    "import numpy as np\n",
    "from sklearn.model_selection import train_test_split\n",
    "from sklearn.linear_model import LinearRegression\n",
    "from sklearn.model_selection import cross_val_score\n",
    "from sklearn.preprocessing import PolynomialFeatures"
   ]
  },
  {
   "cell_type": "markdown",
   "id": "c3b22249",
   "metadata": {},
   "source": [
    "# Part 1 : Loading the Dataset"
   ]
  },
  {
   "cell_type": "markdown",
   "id": "591a1897",
   "metadata": {},
   "source": [
    "Using pandas, we are remotely loading and reading the csv file."
   ]
  },
  {
   "cell_type": "code",
   "execution_count": 2,
   "id": "84b8d2be",
   "metadata": {},
   "outputs": [],
   "source": [
    "slime = pd.read_csv(\"https://raw.githubusercontent.com/profmcnich/example_notebook/main/science_data_large.csv\")"
   ]
  },
  {
   "cell_type": "markdown",
   "id": "633cb9bd",
   "metadata": {},
   "source": [
    "Using the head( ) function, we can create a table that only displays the first 15 rows of data."
   ]
  },
  {
   "cell_type": "code",
   "execution_count": 3,
   "id": "1a62f8f0",
   "metadata": {},
   "outputs": [
    {
     "data": {
      "text/html": [
       "<div>\n",
       "<style scoped>\n",
       "    .dataframe tbody tr th:only-of-type {\n",
       "        vertical-align: middle;\n",
       "    }\n",
       "\n",
       "    .dataframe tbody tr th {\n",
       "        vertical-align: top;\n",
       "    }\n",
       "\n",
       "    .dataframe thead th {\n",
       "        text-align: right;\n",
       "    }\n",
       "</style>\n",
       "<table border=\"1\" class=\"dataframe\">\n",
       "  <thead>\n",
       "    <tr style=\"text-align: right;\">\n",
       "      <th></th>\n",
       "      <th>Temperature °C</th>\n",
       "      <th>Mols KCL</th>\n",
       "      <th>Size nm^3</th>\n",
       "    </tr>\n",
       "  </thead>\n",
       "  <tbody>\n",
       "    <tr>\n",
       "      <th>0</th>\n",
       "      <td>469</td>\n",
       "      <td>647</td>\n",
       "      <td>6.244743e+05</td>\n",
       "    </tr>\n",
       "    <tr>\n",
       "      <th>1</th>\n",
       "      <td>403</td>\n",
       "      <td>694</td>\n",
       "      <td>5.779610e+05</td>\n",
       "    </tr>\n",
       "    <tr>\n",
       "      <th>2</th>\n",
       "      <td>302</td>\n",
       "      <td>975</td>\n",
       "      <td>6.196847e+05</td>\n",
       "    </tr>\n",
       "    <tr>\n",
       "      <th>3</th>\n",
       "      <td>779</td>\n",
       "      <td>916</td>\n",
       "      <td>1.460449e+06</td>\n",
       "    </tr>\n",
       "    <tr>\n",
       "      <th>4</th>\n",
       "      <td>901</td>\n",
       "      <td>18</td>\n",
       "      <td>4.325726e+04</td>\n",
       "    </tr>\n",
       "    <tr>\n",
       "      <th>5</th>\n",
       "      <td>545</td>\n",
       "      <td>637</td>\n",
       "      <td>7.124634e+05</td>\n",
       "    </tr>\n",
       "    <tr>\n",
       "      <th>6</th>\n",
       "      <td>660</td>\n",
       "      <td>519</td>\n",
       "      <td>7.006960e+05</td>\n",
       "    </tr>\n",
       "    <tr>\n",
       "      <th>7</th>\n",
       "      <td>143</td>\n",
       "      <td>869</td>\n",
       "      <td>2.718260e+05</td>\n",
       "    </tr>\n",
       "    <tr>\n",
       "      <th>8</th>\n",
       "      <td>89</td>\n",
       "      <td>461</td>\n",
       "      <td>8.919803e+04</td>\n",
       "    </tr>\n",
       "    <tr>\n",
       "      <th>9</th>\n",
       "      <td>294</td>\n",
       "      <td>776</td>\n",
       "      <td>4.770210e+05</td>\n",
       "    </tr>\n",
       "    <tr>\n",
       "      <th>10</th>\n",
       "      <td>991</td>\n",
       "      <td>117</td>\n",
       "      <td>2.441771e+05</td>\n",
       "    </tr>\n",
       "    <tr>\n",
       "      <th>11</th>\n",
       "      <td>307</td>\n",
       "      <td>781</td>\n",
       "      <td>5.006455e+05</td>\n",
       "    </tr>\n",
       "    <tr>\n",
       "      <th>12</th>\n",
       "      <td>206</td>\n",
       "      <td>70</td>\n",
       "      <td>3.145200e+04</td>\n",
       "    </tr>\n",
       "    <tr>\n",
       "      <th>13</th>\n",
       "      <td>437</td>\n",
       "      <td>599</td>\n",
       "      <td>5.390215e+05</td>\n",
       "    </tr>\n",
       "    <tr>\n",
       "      <th>14</th>\n",
       "      <td>566</td>\n",
       "      <td>75</td>\n",
       "      <td>9.185271e+04</td>\n",
       "    </tr>\n",
       "  </tbody>\n",
       "</table>\n",
       "</div>"
      ],
      "text/plain": [
       "    Temperature °C  Mols KCL     Size nm^3\n",
       "0              469       647  6.244743e+05\n",
       "1              403       694  5.779610e+05\n",
       "2              302       975  6.196847e+05\n",
       "3              779       916  1.460449e+06\n",
       "4              901        18  4.325726e+04\n",
       "5              545       637  7.124634e+05\n",
       "6              660       519  7.006960e+05\n",
       "7              143       869  2.718260e+05\n",
       "8               89       461  8.919803e+04\n",
       "9              294       776  4.770210e+05\n",
       "10             991       117  2.441771e+05\n",
       "11             307       781  5.006455e+05\n",
       "12             206        70  3.145200e+04\n",
       "13             437       599  5.390215e+05\n",
       "14             566        75  9.185271e+04"
      ]
     },
     "execution_count": 3,
     "metadata": {},
     "output_type": "execute_result"
    }
   ],
   "source": [
    "slime.head(15)"
   ]
  },
  {
   "cell_type": "markdown",
   "id": "68450d48",
   "metadata": {},
   "source": [
    "The info( ) function provides a technical summary of the data. "
   ]
  },
  {
   "cell_type": "code",
   "execution_count": 4,
   "id": "996244b7",
   "metadata": {},
   "outputs": [
    {
     "name": "stdout",
     "output_type": "stream",
     "text": [
      "<class 'pandas.core.frame.DataFrame'>\n",
      "RangeIndex: 1000 entries, 0 to 999\n",
      "Data columns (total 3 columns):\n",
      " #   Column          Non-Null Count  Dtype  \n",
      "---  ------          --------------  -----  \n",
      " 0   Temperature °C  1000 non-null   int64  \n",
      " 1   Mols KCL        1000 non-null   int64  \n",
      " 2   Size nm^3       1000 non-null   float64\n",
      "dtypes: float64(1), int64(2)\n",
      "memory usage: 23.6 KB\n"
     ]
    }
   ],
   "source": [
    "slime.info()"
   ]
  },
  {
   "cell_type": "markdown",
   "id": "9626fb04",
   "metadata": {},
   "source": [
    "# Part 2 : Splitting the Dataset"
   ]
  },
  {
   "cell_type": "markdown",
   "id": "bc1a8d55",
   "metadata": {},
   "source": [
    "In the case of this dataset, the temperature and mols of KCL (the independent variables) determine the size of the slime (the dependent variable). Therefore, **Temperature °C** and **Mols KCL** are our *X values*, and **Size nm^3** is our *y value*."
   ]
  },
  {
   "cell_type": "code",
   "execution_count": 5,
   "id": "bcf98487",
   "metadata": {},
   "outputs": [],
   "source": [
    "X = slime[[\"Temperature °C\",\"Mols KCL\"]]\n",
    "y = slime[\"Size nm^3\"]"
   ]
  },
  {
   "cell_type": "markdown",
   "id": "00fbf5e9",
   "metadata": {},
   "source": [
    "From here, we split this data into a training set and a test set, where the training set is 90% of the data, and the test set is 10% of the data. I am setting the *random_state* parameter to 10 so that my results are consistent."
   ]
  },
  {
   "cell_type": "code",
   "execution_count": 6,
   "id": "0b1f6fd1",
   "metadata": {},
   "outputs": [],
   "source": [
    "X_train, X_test, y_train, y_test = train_test_split(X,y,test_size = 0.1, random_state = 10)"
   ]
  },
  {
   "cell_type": "markdown",
   "id": "96563a93",
   "metadata": {},
   "source": [
    "# Part 3 : Perform a Linear Regression"
   ]
  },
  {
   "cell_type": "markdown",
   "id": "60a9b532",
   "metadata": {},
   "source": [
    "Now, I'm using the training set to train my model. I am doing this by using the *fit( )* function. "
   ]
  },
  {
   "cell_type": "code",
   "execution_count": 7,
   "id": "b7ba5ba8",
   "metadata": {},
   "outputs": [
    {
     "data": {
      "text/plain": [
       "LinearRegression()"
      ]
     },
     "execution_count": 7,
     "metadata": {},
     "output_type": "execute_result"
    }
   ],
   "source": [
    "lr = LinearRegression()\n",
    "lr.fit(X_train.values,y_train)"
   ]
  },
  {
   "cell_type": "markdown",
   "id": "b6314e76",
   "metadata": {},
   "source": [
    "I now want to see what my model would predict the size of the slime would be if it is exposed to heat that is 500°C and 600 mols of KCL. "
   ]
  },
  {
   "cell_type": "code",
   "execution_count": 8,
   "id": "76d5c386",
   "metadata": {},
   "outputs": [
    {
     "data": {
      "text/plain": [
       "array([637379.74448775])"
      ]
     },
     "execution_count": 8,
     "metadata": {},
     "output_type": "execute_result"
    }
   ],
   "source": [
    "lr.predict([[500,600]])"
   ]
  },
  {
   "cell_type": "markdown",
   "id": "1b06ecb1",
   "metadata": {},
   "source": [
    "If the slime is exposed to heat with a temperature of 500°C and 600 mols of KCL, the model predicts the size of the slime would be: $$ 6.3738*10^5 nm^3 $$"
   ]
  },
  {
   "cell_type": "markdown",
   "id": "f20e834c",
   "metadata": {},
   "source": [
    "The *score( )* function determines the R^2 coefficient of h(x), which tells us how accurate our model is at predicting our y-values. "
   ]
  },
  {
   "cell_type": "code",
   "execution_count": 9,
   "id": "dd623757",
   "metadata": {},
   "outputs": [
    {
     "data": {
      "text/plain": [
       "0.8838673863856773"
      ]
     },
     "execution_count": 9,
     "metadata": {},
     "output_type": "execute_result"
    }
   ],
   "source": [
    "lr.score(X_test.values,y_test)"
   ]
  },
  {
   "cell_type": "markdown",
   "id": "6b66295d",
   "metadata": {},
   "source": [
    "Our R^2 coefficient is about **0.88**, which means that our model is 88% accurate in it's predictions. This means that our model is fairly accurate in predicting our y-values. However, the model isn't perfect, for it doesn't have 100% accuracy. "
   ]
  },
  {
   "cell_type": "markdown",
   "id": "4b510627",
   "metadata": {},
   "source": [
    "To determine our values for h(x), we use *coef_* to find the coefficients, and *intercept_* to find the y-intercept. "
   ]
  },
  {
   "cell_type": "code",
   "execution_count": 10,
   "id": "e2c816d8",
   "metadata": {},
   "outputs": [
    {
     "data": {
      "text/plain": [
       "array([ 876.56037994, 1032.21149885])"
      ]
     },
     "execution_count": 10,
     "metadata": {},
     "output_type": "execute_result"
    }
   ],
   "source": [
    "lr.coef_"
   ]
  },
  {
   "cell_type": "code",
   "execution_count": 11,
   "id": "bc807a31",
   "metadata": {},
   "outputs": [
    {
     "data": {
      "text/plain": [
       "-420227.34479107795"
      ]
     },
     "execution_count": 11,
     "metadata": {},
     "output_type": "execute_result"
    }
   ],
   "source": [
    "lr.intercept_"
   ]
  },
  {
   "cell_type": "markdown",
   "id": "f489bbb4",
   "metadata": {},
   "source": [
    "Plugging these values into h(x): $$ h(x) = -4.2023*10^5 + 876.56x_1 + 1032.2x_2 $$"
   ]
  },
  {
   "cell_type": "markdown",
   "id": "92971355",
   "metadata": {},
   "source": [
    "# Part 4 : Use Cross Validation"
   ]
  },
  {
   "cell_type": "markdown",
   "id": "a17d273b",
   "metadata": {},
   "source": [
    "We now use *cross_val_score* to obtain the scores of, in this case, 10 folds of our dataset. "
   ]
  },
  {
   "cell_type": "code",
   "execution_count": 12,
   "id": "e3baa0e9",
   "metadata": {},
   "outputs": [
    {
     "data": {
      "text/plain": [
       "array([0.81123596, 0.86440978, 0.87808742, 0.86561069, 0.87495621,\n",
       "       0.84484397, 0.87941022, 0.86349411, 0.78353682, 0.88686516])"
      ]
     },
     "execution_count": 12,
     "metadata": {},
     "output_type": "execute_result"
    }
   ],
   "source": [
    "scores = cross_val_score(lr,X,y,cv=10)\n",
    "scores"
   ]
  },
  {
   "cell_type": "code",
   "execution_count": 13,
   "id": "118283ea",
   "metadata": {},
   "outputs": [
    {
     "data": {
      "text/plain": [
       "(0.8552450341984701, 0.0315287629653424)"
      ]
     },
     "execution_count": 13,
     "metadata": {},
     "output_type": "execute_result"
    }
   ],
   "source": [
    "scores.mean(),scores.std()"
   ]
  },
  {
   "cell_type": "markdown",
   "id": "0b6113bf",
   "metadata": {},
   "source": [
    "Looking at the mean and standard deviation of our cross_val_scores, we can see that our model, on average, is about 86% accurate, and that our datapoints are very close to our model. This data solidifies our findings in Part 3, that we have a fairly good model that is very likely to accurately predict the size of the slime. However, since it isn't 100% accurate, it is not a perfect model. "
   ]
  },
  {
   "cell_type": "markdown",
   "id": "2eb23a3c",
   "metadata": {},
   "source": [
    "# Part 5 : Using Polynomial Regression"
   ]
  },
  {
   "cell_type": "markdown",
   "id": "713a996a",
   "metadata": {},
   "source": [
    "We use the *PolynomialFeatures* transformer to transform our current data matrix into a new data matrix for a degree of 2. "
   ]
  },
  {
   "cell_type": "code",
   "execution_count": 14,
   "id": "bf6ae7fc",
   "metadata": {},
   "outputs": [
    {
     "data": {
      "text/plain": [
       "array([[1.00000e+00, 4.69000e+02, 6.47000e+02, 2.19961e+05, 3.03443e+05,\n",
       "        4.18609e+05],\n",
       "       [1.00000e+00, 4.03000e+02, 6.94000e+02, 1.62409e+05, 2.79682e+05,\n",
       "        4.81636e+05],\n",
       "       [1.00000e+00, 3.02000e+02, 9.75000e+02, 9.12040e+04, 2.94450e+05,\n",
       "        9.50625e+05],\n",
       "       ...,\n",
       "       [1.00000e+00, 7.91000e+02, 2.13000e+02, 6.25681e+05, 1.68483e+05,\n",
       "        4.53690e+04],\n",
       "       [1.00000e+00, 7.69000e+02, 5.53000e+02, 5.91361e+05, 4.25257e+05,\n",
       "        3.05809e+05],\n",
       "       [1.00000e+00, 9.19000e+02, 4.52000e+02, 8.44561e+05, 4.15388e+05,\n",
       "        2.04304e+05]])"
      ]
     },
     "execution_count": 14,
     "metadata": {},
     "output_type": "execute_result"
    }
   ],
   "source": [
    "pr = PolynomialFeatures(degree=2)\n",
    "poly = pr.fit_transform(X)\n",
    "poly"
   ]
  },
  {
   "cell_type": "markdown",
   "id": "04e73e93",
   "metadata": {},
   "source": [
    "We then perform Linear Regression using the new data matrix, to then get the new coefficients for our equation. "
   ]
  },
  {
   "cell_type": "code",
   "execution_count": 15,
   "id": "bd8fc8ff",
   "metadata": {},
   "outputs": [
    {
     "data": {
      "text/plain": [
       "array([ 0.00000000e+00,  1.20000000e+01, -1.23112040e-07, -1.05619484e-11,\n",
       "        2.00000000e+00,  2.85714287e-02])"
      ]
     },
     "execution_count": 15,
     "metadata": {},
     "output_type": "execute_result"
    }
   ],
   "source": [
    "lin = LinearRegression().fit(poly,y)\n",
    "lin.coef_"
   ]
  },
  {
   "cell_type": "markdown",
   "id": "5348fbbc",
   "metadata": {},
   "source": [
    "Our new h(x) is: $$ h(x) = 12x_1 - 1.2311*10^{-7}x_2 - 1.0562*10^{-11}x^2_1 + 2x_1 x_2 + 2.8571*10^{-2}x^2_2 $$"
   ]
  },
  {
   "cell_type": "code",
   "execution_count": 16,
   "id": "27c191c3",
   "metadata": {},
   "outputs": [
    {
     "data": {
      "text/plain": [
       "1.0"
      ]
     },
     "execution_count": 16,
     "metadata": {},
     "output_type": "execute_result"
    }
   ],
   "source": [
    "lin.score(poly,y)"
   ]
  },
  {
   "cell_type": "code",
   "execution_count": 17,
   "id": "e3b4d9b0",
   "metadata": {},
   "outputs": [
    {
     "data": {
      "text/plain": [
       "array([1., 1., 1., 1., 1., 1., 1., 1., 1., 1.])"
      ]
     },
     "execution_count": 17,
     "metadata": {},
     "output_type": "execute_result"
    }
   ],
   "source": [
    "poly_scores = cross_val_score(lr,poly,y,cv=10)\n",
    "poly_scores"
   ]
  },
  {
   "cell_type": "code",
   "execution_count": 18,
   "id": "017a7c8f",
   "metadata": {},
   "outputs": [
    {
     "data": {
      "text/plain": [
       "(1.0, 0.0)"
      ]
     },
     "execution_count": 18,
     "metadata": {},
     "output_type": "execute_result"
    }
   ],
   "source": [
    "poly_scores.mean(), poly_scores.std()"
   ]
  },
  {
   "cell_type": "markdown",
   "id": "15017e8a",
   "metadata": {},
   "source": [
    "Our R^2 coefficient is now 1.0, which means that our model is 100% accurate in predicting the size of the slime. This means that this is the natural function of our dataset. "
   ]
  }
 ],
 "metadata": {
  "kernelspec": {
   "display_name": "Python 3 (ipykernel)",
   "language": "python",
   "name": "python3"
  },
  "language_info": {
   "codemirror_mode": {
    "name": "ipython",
    "version": 3
   },
   "file_extension": ".py",
   "mimetype": "text/x-python",
   "name": "python",
   "nbconvert_exporter": "python",
   "pygments_lexer": "ipython3",
   "version": "3.9.7"
  }
 },
 "nbformat": 4,
 "nbformat_minor": 5
}
